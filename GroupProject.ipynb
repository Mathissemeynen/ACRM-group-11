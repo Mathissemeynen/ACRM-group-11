{
 "cells": [
  {
   "cell_type": "code",
   "execution_count": 3,
   "id": "e6deb1b6",
   "metadata": {},
   "outputs": [
    {
     "name": "stdout",
     "output_type": "stream",
     "text": [
      "version1\n",
      "version2\n",
      "Dit is een GitHub testfase\n"
     ]
    }
   ],
   "source": [
    "print(\"version1\")\n",
    "print(\"version2\")\n",
    "print(\"Dit is een GitHub testfase\")"
   ]
  },
  {
   "cell_type": "code",
   "execution_count": 4,
   "id": "b835f074",
   "metadata": {},
   "outputs": [
    {
     "name": "stdout",
     "output_type": "stream",
     "text": [
      "Dit is nog een testfase.\n"
     ]
    }
   ],
   "source": [
    "print(\"Dit is nog een testfase.\")"
   ]
  }
 ],
 "metadata": {
  "kernelspec": {
   "display_name": "Python 3",
   "language": "python",
   "name": "python3"
  },
  "language_info": {
   "codemirror_mode": {
    "name": "ipython",
    "version": 3
   },
   "file_extension": ".py",
   "mimetype": "text/x-python",
   "name": "python",
   "nbconvert_exporter": "python",
   "pygments_lexer": "ipython3",
   "version": "3.12.9"
  }
 },
 "nbformat": 4,
 "nbformat_minor": 5
}
