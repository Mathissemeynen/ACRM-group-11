{
 "cells": [
  {
   "cell_type": "code",
   "execution_count": 1,
   "id": "9df49593",
   "metadata": {},
   "outputs": [],
   "source": [
    "# Import packages\n",
    "from datetime import datetime\n",
    "import pandas as pd\n",
    "import numpy as np\n",
    "import os"
   ]
  },
  {
   "cell_type": "code",
   "execution_count": 2,
   "id": "8ff0c495",
   "metadata": {},
   "outputs": [
    {
     "data": {
      "text/plain": [
       "['satisfaction.csv',\n",
       " '.DS_Store',\n",
       " 'stops.csv',\n",
       " 'train_3605.png',\n",
       " 'tickets.csv',\n",
       " 'stations.csv',\n",
       " 'subscriptions.csv',\n",
       " 'facilities.csv',\n",
       " 'travelers.csv',\n",
       " 'Trips',\n",
       " 'Overview_NMBS_data.png',\n",
       " 'incidents.csv']"
      ]
     },
     "execution_count": 2,
     "metadata": {},
     "output_type": "execute_result"
    }
   ],
   "source": [
    "# Define directory to look at\n",
    "data_dir = \"./Data/\"\n",
    "\n",
    "# Let's have a look\n",
    "os.listdir(data_dir)"
   ]
  }
 ],
 "metadata": {
  "kernelspec": {
   "display_name": "Python 3",
   "language": "python",
   "name": "python3"
  },
  "language_info": {
   "codemirror_mode": {
    "name": "ipython",
    "version": 3
   },
   "file_extension": ".py",
   "mimetype": "text/x-python",
   "name": "python",
   "nbconvert_exporter": "python",
   "pygments_lexer": "ipython3",
   "version": "3.11.3"
  }
 },
 "nbformat": 4,
 "nbformat_minor": 5
}
